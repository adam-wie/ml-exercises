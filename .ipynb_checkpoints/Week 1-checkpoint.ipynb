{
 "cells": [
  {
   "cell_type": "markdown",
   "metadata": {},
   "source": [
    "# Exercise 2.1"
   ]
  },
  {
   "cell_type": "code",
   "execution_count": 73,
   "metadata": {
    "scrolled": true
   },
   "outputs": [
    {
     "data": {
      "image/png": "[encoded data removed]",
      "text/plain": [
       "<Figure size 432x288 with 1 Axes>"
      ]
     },
     "metadata": {},
     "output_type": "display_data"
    },
    {
     "name": "stdout",
     "output_type": "stream",
     "text": [
      "The predicted coeffs are\n",
      "[[0.03692047]\n",
      " [0.06005003]\n",
      " [4.93990196]]\n"
     ]
    }
   ],
   "source": [
    "import numpy as np\n",
    "import matplotlib.pyplot as plt\n",
    "\n",
    "# Setup input data. \n",
    "# We make numberofpoints points\n",
    "# the x's are chosen randomly \n",
    "# the y's according to the fomula and with some noise\n",
    "numberofpoints = 100\n",
    "x = np.random.rand(numberofpoints,1)\n",
    "y = 5*x*x + 0.1*np.random.rand(numberofpoints,1)\n",
    "\n",
    "# Make \\hat{X} matrix, xb, with rows of 1, x, x^2\n",
    "# Compute beta matrix according to formula from slides/book\n",
    "# Beta will contain the coefficients of our \"predicted\" second degree polynomial\n",
    "xb = np.c_[np.ones((numberofpoints,1)),x,x*x]\n",
    "beta = np.linalg.inv(xb.T.dot(xb)).dot(xb.T).dot(y)\n",
    "\n",
    "# generate a bunch of x's for plotting\n",
    "xstep = 0.01\n",
    "xstepinv = 100\n",
    "xpoints = np.arange(0.0, 1.0, xstep)\n",
    "\n",
    "# Compute the predicted y values for all the plotting x's\n",
    "xbnew = np.c_[np.ones((xstepinv,1)), xpoints, xpoints*xpoints]\n",
    "ypredict = xbnew.dot(beta)\n",
    "\n",
    "# Do the plotting\n",
    "# first draw a line between the plotting x's and their predicted y's \n",
    "plt.plot(xpoints, ypredict, \"r-\")\n",
    "# Then plot the points we predicted from\n",
    "plt.plot(x, y ,'bo')\n",
    "# Setup axis and labels\n",
    "plt.axis([0, 1.0, 0, 6.0])\n",
    "plt.xlabel(r'$x$')\n",
    "plt.ylabel(r'$y$')\n",
    "plt.title(r'Linear Regression')\n",
    "plt.show()\n",
    "\n",
    "print(\"The predicted coeffs are\")\n",
    "print(beta)\n"
   ]
  },
  {
   "cell_type": "markdown",
   "metadata": {},
   "source": [
    "# Exercise 2.2 and 2.3"
   ]
  },
  {
   "cell_type": "code",
   "execution_count": 123,
   "metadata": {},
   "outputs": [
    {
     "name": "stdout",
     "output_type": "stream",
     "text": [
      "The intercept alpha: \n",
      " [0.21427782]\n",
      "Coefficient beta : \n",
      " [[4.13377971e-03 5.03181132e+00]]\n",
      "Mean squared error: 0.02\n",
      "My MSE calc 0.02\n",
      "The R2 score: 0.99\n",
      "My R2 calc 0.99\n"
     ]
    },
    {
     "data": {
      "image/png": "[encoded data removed]",
      "text/plain": [
       "<Figure size 432x288 with 1 Axes>"
      ]
     },
     "metadata": {},
     "output_type": "display_data"
    }
   ],
   "source": [
    "from random import random, seed\n",
    "import numpy as np\n",
    "import matplotlib.pyplot as plt\n",
    "from sklearn.linear_model import LinearRegression\n",
    "from sklearn.metrics import mean_squared_error, r2_score, mean_squared_log_error, mean_absolute_error\n",
    "\n",
    "#######\n",
    "# functions to compute stat stuff\n",
    "#######\n",
    "\n",
    "# Takes two lists, xs, ys, assumed to be of same length, n. \n",
    "# Computes (1/n) \\sum_i (xs[i] - ys[i])^2\n",
    "def MSE(xs, ys) :\n",
    "    sqdiff = map(lambda t : (t[0] - t[1])**2, zip(xs,ys))\n",
    "    return sum(sqdiff)/len(xs)\n",
    "\n",
    "# Takes two lists, xs, ys and computes r2 score \n",
    "def r2d2score(xs,ys) : \n",
    "    avgxs = sum(xs)/len(xs)\n",
    "    sqoffavg = sum(map(lambda t : (t - avgxs)**2, xs))\n",
    "    sqdiff = sum(map(lambda t : (t[0] - t[1])**2, zip(xs,ys)))\n",
    "    return 1 - sqdiff/sqoffavg\n",
    "\n",
    "\n",
    "# Setup input data. \n",
    "# We make numberofpoints points\n",
    "# the x's are chosen randomly \n",
    "# the y's according to the fomula and with some noise\n",
    "numberofpoints = 100\n",
    "x = np.random.rand(numberofpoints,1)\n",
    "y = 5*x*x + 0.5*np.random.rand(numberofpoints, 1)\n",
    "# trying a normal distrubution on the noise\n",
    "#y = 5*x*x + 1*(np.c_[np.random.normal(0,0.2,numberofpoints)])\n",
    "\n",
    "# Use the sci-kit learn stuff\n",
    "linreg = LinearRegression()\n",
    "linreg.fit(np.c_[x, x*x], y)\n",
    "\n",
    "# Compute the predicted y values for our x's\n",
    "ypredict = linreg.predict(np.c_[x, x*x])\n",
    "\n",
    "# print all the coefficients and error stuff\n",
    "print('The intercept alpha: \\n', linreg.intercept_)\n",
    "print('Coefficient beta : \\n', linreg.coef_)\n",
    "# The mean squared error                               \n",
    "print(\"Mean squared error: %.2f\" % mean_squared_error(y, ypredict))\n",
    "print(\"My MSE calc %.2f\" % MSE(y,ypredict))\n",
    "# The r2 score\n",
    "print(\"The R2 score: %.2f\" % r2_score(y, ypredict))\n",
    "print(\"My R2 calc %.2f\" % r2d2score(y,ypredict))\n",
    "\n",
    "# generate a bunch of x's for plotting\n",
    "xstep = 0.01\n",
    "xstepinv = 100\n",
    "xpoints = np.arange(0.0, 1.0, xstep)\n",
    "\n",
    "# compute the predicted y's of the x's\n",
    "ypoints = linreg.predict(np.c_[xpoints, xpoints*xpoints])\n",
    "\n",
    "# Do the plotting\n",
    "# first draw a line between the plotting x's and their predicted y's \n",
    "plt.plot(xpoints, ypoints, \"r-\")\n",
    "# Then plot the points we predicted from\n",
    "plt.plot(x, y ,'bo')\n",
    "# Setup axis and labels\n",
    "plt.axis([0, 1.0, 0, 6.0])\n",
    "plt.xlabel(r'$x$')\n",
    "plt.ylabel(r'$y$')\n",
    "plt.title(r'Linear Regression')\n",
    "plt.show()\n"
   ]
  },
  {
   "cell_type": "code",
   "execution_count": null,
   "metadata": {},
   "outputs": [],
   "source": []
  }
 ],
 "metadata": {
  "kernelspec": {
   "display_name": "Python 3",
   "language": "python",
   "name": "python3"
  },
  "language_info": {
   "codemirror_mode": {
    "name": "ipython",
    "version": 3
   },
   "file_extension": ".py",
   "mimetype": "text/x-python",
   "name": "python",
   "nbconvert_exporter": "python",
   "pygments_lexer": "ipython3",
   "version": "3.6.5"
  }
 },
 "nbformat": 4,
 "nbformat_minor": 2
}
