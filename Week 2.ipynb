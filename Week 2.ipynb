{
 "cells": [
  {
   "cell_type": "markdown",
   "metadata": {},
   "source": [
    "# Exercise 4.1 and 4.2"
   ]
  },
  {
   "cell_type": "code",
   "execution_count": 33,
   "metadata": {},
   "outputs": [
    {
     "data": {
      "image/png": "[encoded data removed]",
      "text/plain": [
       "<Figure size 432x288 with 1 Axes>"
      ]
     },
     "metadata": {},
     "output_type": "display_data"
    },
    {
     "name": "stdout",
     "output_type": "stream",
     "text": [
      "Hand computed predicted coeffs are\n",
      "[[0.44666847]\n",
      " [1.89167218]\n",
      " [2.12987024]]\n",
      "Coefs from sci-kit learn are:\n",
      "[[0.44666847 1.89167218 2.12987024]]\n",
      "We had lambda equad to 5.00\n",
      "With a noise of 1.00\n"
     ]
    }
   ],
   "source": [
    "import numpy as np\n",
    "import matplotlib.pyplot as plt\n",
    "from sklearn.linear_model import Ridge\n",
    "from sklearn.metrics import mean_squared_error, r2_score, mean_squared_log_error, mean_absolute_error\n",
    "\n",
    "# Setup input data. \n",
    "# We make numberofpoints points\n",
    "# the x's are chosen randomly \n",
    "# the y's according to the fomula and with some noise\n",
    "numberofpoints = 100\n",
    "noise = 1\n",
    "x = np.random.rand(numberofpoints,1)\n",
    "y = 5*x*x + noise*np.random.rand(numberofpoints,1)\n",
    "\n",
    "# Make \\hat{X} matrix, xb, with rows of 1, x, x^2\n",
    "xb = np.c_[np.ones((numberofpoints,1)),x,x*x]\n",
    "\n",
    "# ridge parameter lambda\n",
    "lamb = 5.0\n",
    "\n",
    "# Compute beta matrix according to formula from Hastings (3.44) \n",
    "# Beta will contain the coefficients of our \"predicted\" second degree polynomial\n",
    "beta = np.linalg.inv(xb.T.dot(xb) + lamb*np.identity(3)).dot(xb.T).dot(y)\n",
    "\n",
    "#######################\n",
    "###\n",
    "###\n",
    "# I think my computation has a problem,\n",
    "# since i penalize the intecept term.\n",
    "# I should avarage the x's and x^2's \n",
    "# and then recompute the intercept by hand. \n",
    "# I tried to do that in the cell below\n",
    "###\n",
    "###\n",
    "########################\n",
    "\n",
    "# Use the functionality of sci-kit learn to compute the same thing\n",
    "ridgereg = Ridge(alpha = lamb, fit_intercept = False)\n",
    "ridgereg.fit(xb, y)\n",
    "\n",
    "# generate a bunch of x's for plotting\n",
    "xstep = 0.01\n",
    "xstepinv = 100\n",
    "xpoints = np.arange(0.0, 1.0, xstep)\n",
    "\n",
    "# Compute the predicted y values for all the plotting x's\n",
    "xbnew = np.c_[np.ones((xstepinv,1)), xpoints, xpoints*xpoints]\n",
    "mypredict = xbnew.dot(beta)\n",
    "#scipredict = ridgereg.predict(np.c_[xpoints, xpoints*xpoints])\n",
    "scipredict = ridgereg.predict(xbnew)\n",
    "# Do the plotting\n",
    "# first draw a line between the plotting x's and their predicted y's (by my computations) \n",
    "plt.plot(xpoints, mypredict, \"r-\")\n",
    "# Draw a line between the plotting x's and the sci-kit predicted y's\n",
    "plt.plot(xpoints, scipredict, \"g-\")\n",
    "# Then plot the points we predicted from\n",
    "plt.plot(x, y ,'bo')\n",
    "# Setup axis and labels\n",
    "plt.axis([0, 1.0, 0, 6.0])\n",
    "plt.xlabel(r'$x$')\n",
    "plt.ylabel(r'$y$')\n",
    "plt.title(r'Linear Regression')\n",
    "plt.show()\n",
    "\n",
    "print(\"Hand computed predicted coeffs are\")\n",
    "print(beta)\n",
    "print(\"Coefs from sci-kit learn are:\")\n",
    "print(ridgereg.coef_)\n",
    "print(\"We had lambda equad to %.2f\" % lamb)\n",
    "print(\"With a noise of %.2f\" % noise)"
   ]
  },
  {
   "cell_type": "markdown",
   "metadata": {},
   "source": [
    "## Ridge try 2,  now normalizing inputs"
   ]
  },
  {
   "cell_type": "code",
   "execution_count": 2,
   "metadata": {
    "scrolled": true
   },
   "outputs": [
    {
     "data": {
      "image/png": "[encoded data removed]",
      "text/plain": [
       "<Figure size 432x288 with 1 Axes>"
      ]
     },
     "metadata": {},
     "output_type": "display_data"
    },
    {
     "name": "stdout",
     "output_type": "stream",
     "text": [
      "Hand computed predicted coeffs are\n",
      "[[0.19527953]]\n",
      "[[1.73306552]\n",
      " [3.25304902]]\n",
      "Coefs from sci-kit learn are:\n",
      "[0.19527953]\n",
      "[[1.73306552 3.25304902]]\n",
      "We had lambda equad to 0.50\n",
      "With a noise of 1.00\n"
     ]
    }
   ],
   "source": [
    "import numpy as np\n",
    "import matplotlib.pyplot as plt\n",
    "from sklearn.linear_model import Ridge\n",
    "from sklearn.metrics import mean_squared_error, r2_score, mean_squared_log_error, mean_absolute_error\n",
    "\n",
    "# Setup input data. \n",
    "# We make numberofpoints points\n",
    "# the x's are chosen randomly \n",
    "# the y's according to the fomula and with some noise\n",
    "numberofpoints = 100\n",
    "noise = 1\n",
    "x = np.random.rand(numberofpoints,1)\n",
    "y = 5*x*x + noise*np.random.rand(numberofpoints,1)\n",
    "\n",
    "# Make avarage input matrix \\hat{X} \n",
    "x1bar = sum(x)/len(x)\n",
    "x2bar = sum(x*x)/len(x)\n",
    "xb = np.c_[x - x1bar, x*x - x2bar]\n",
    "\n",
    "# ridge parameter lambda\n",
    "lamb = .50\n",
    "\n",
    "# Compute beta matrix according to formula from Hastings (3.44) \n",
    "# Beta will contain the coefficients of our \"predicted\" second degree polynomial\n",
    "b0 = sum(y)/len(y)\n",
    "beta = np.linalg.inv(xb.T.dot(xb) + lamb*np.identity(2)).dot(xb.T).dot(y-b0)\n",
    "\n",
    "\n",
    "# Use the functionality of sci-kit learn to compute the same thing\n",
    "ridgereg = Ridge(alpha = lamb)\n",
    "ridgereg.fit(np.c_[x, x*x], y)\n",
    "#ridgereg.fit(np.c_[x], y)\n",
    "\n",
    "# generate a bunch of x's for plotting\n",
    "xstep = 0.01\n",
    "xstepinv = 100\n",
    "xpoints = np.arange(0.0, 1.0, xstep)\n",
    "\n",
    "# Compute the predicted y values for all the plotting x's\n",
    "xbnew = np.c_[xpoints, xpoints*xpoints]\n",
    "myintercept = b0 - (np.c_[x1bar, x2bar]).dot(beta)\n",
    "mypredict = xbnew.dot(beta) + myintercept\n",
    "scipredict = ridgereg.predict(xbnew)\n",
    "#scipredict = ridgereg.predict(xbnew)\n",
    "# Do the plotting\n",
    "# first draw a line between the plotting x's and their predicted y's (by my computations) \n",
    "plt.plot(xpoints, mypredict, \"r-\")\n",
    "# Draw a line between the plotting x's and the sci-kit predicted y's\n",
    "plt.plot(xpoints, scipredict, \"g-\")\n",
    "# Then plot the points we predicted from\n",
    "plt.plot(x, y ,'bo')\n",
    "# Setup axis and labels\n",
    "plt.axis([0, 1.0, 0, 6.0])\n",
    "plt.xlabel(r'$x$')\n",
    "plt.ylabel(r'$y$')\n",
    "plt.title(r'Linear Regression')\n",
    "plt.show()\n",
    "\n",
    "print(\"Hand computed predicted coeffs are\")\n",
    "print(myintercept)\n",
    "print(beta)\n",
    "print(\"Coefs from sci-kit learn are:\")\n",
    "print(ridgereg.intercept_)\n",
    "print(ridgereg.coef_)\n",
    "print(\"We had lambda equad to %.2f\" % lamb)\n",
    "print(\"With a noise of %.2f\" % noise)\n",
    "\n"
   ]
  },
  {
   "cell_type": "markdown",
   "metadata": {},
   "source": [
    "## Sci-kit learn, ridge and intercept, column of 1's"
   ]
  },
  {
   "cell_type": "code",
   "execution_count": 50,
   "metadata": {},
   "outputs": [
    {
     "name": "stdout",
     "output_type": "stream",
     "text": [
      "Coefs with fit_intercept = True are:\n",
      "[-0.68530224]\n",
      "[[4.94446789]]\n",
      "\n",
      "Coefs with fit_intercept = False, but a column of ones are:\n",
      "[[-0.67740218  4.93349422]]\n"
     ]
    }
   ],
   "source": [
    "import numpy as np\n",
    "import matplotlib.pyplot as plt\n",
    "from sklearn.linear_model import Ridge\n",
    "\n",
    "# Setup input data. \n",
    "# We make numberofpoints points\n",
    "# the x's are chosen randomly \n",
    "# the y's according to the fomula and with some noise\n",
    "numberofpoints = 100\n",
    "noise = 0.1\n",
    "x = np.random.rand(numberofpoints,1)\n",
    "y = 5*x*x + noise*np.random.rand(numberofpoints,1)\n",
    "# ridge parameter lambda\n",
    "lamb = 0.3\n",
    "\n",
    "# Use the functionality of sci-kit learn\n",
    "ridgereg_true = Ridge(alpha = lamb, fit_intercept = True)\n",
    "ridgereg_false = Ridge(alpha = lamb, fit_intercept = False)\n",
    "ridgereg_true.fit(np.c_[x],y)\n",
    "ridgereg_false.fit(np.c_[np.ones((numberofpoints,1)),x], y)\n",
    "\n",
    "print(\"Coefs with fit_intercept = True are:\")\n",
    "print(ridgereg_true.intercept_)\n",
    "print(ridgereg_true.coef_)\n",
    "print(\"\")\n",
    "print(\"Coefs with fit_intercept = False, but a column of ones are:\")\n",
    "print(ridgereg_false.coef_)"
   ]
  },
  {
   "cell_type": "markdown",
   "metadata": {},
   "source": [
    "# Exercise 4.3"
   ]
  },
  {
   "cell_type": "code",
   "execution_count": null,
   "metadata": {},
   "outputs": [],
   "source": []
  }
 ],
 "metadata": {
  "kernelspec": {
   "display_name": "Python 3",
   "language": "python",
   "name": "python3"
  },
  "language_info": {
   "codemirror_mode": {
    "name": "ipython",
    "version": 3
   },
   "file_extension": ".py",
   "mimetype": "text/x-python",
   "name": "python",
   "nbconvert_exporter": "python",
   "pygments_lexer": "ipython3",
   "version": "3.6.5"
  }
 },
 "nbformat": 4,
 "nbformat_minor": 2
}
