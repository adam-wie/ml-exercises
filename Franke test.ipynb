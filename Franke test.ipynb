{
 "cells": [
  {
   "cell_type": "code",
   "execution_count": null,
   "metadata": {},
   "outputs": [],
   "source": [
    "import numpy as np\n",
    "import matplotlib.pyplot as plt\n",
    "from mpl_toolkits.mplot3d import Axes3D\n",
    "from matplotlib import cm\n",
    "from matplotlib.ticker import LinearLocator, FormatStrFormatter\n",
    "from random import random, seed\n",
    "from sklearn.linear_model import Lasso\n",
    "from sklearn.metrics import mean_squared_error, r2_score\n",
    "from sklearn.preprocessing import PolynomialFeatures\n",
    "\n",
    "def FrankeFunction(x,y):\n",
    "    term1 = 0.75*np.exp(-(0.25*(9*x-2)**2) - 0.25*((9*y-2)**2))\n",
    "    term2 = 0.75*np.exp(-((9*x+1)**2)/49.0 - 0.1*(9*y+1))\n",
    "    term3 = 0.5*np.exp(-(9*x-7)**2/4.0 - 0.25*((9*y-3)**2))\n",
    "    term4 = -0.2*np.exp(-(9*x-4)**2 - (9*y-7)**2)\n",
    "    return term1 + term2 + term3 + term4\n",
    "\n",
    "# Setup input data. \n",
    "# We make numberofpoints points\n",
    "# the x's and y's are chosen randomly \n",
    "# the z's according to the fomula and with some noise\n",
    "numberofpoints = 900\n",
    "noise = 0\n",
    "XY = np.random.rand(numberofpoints, 2) # a matric of random numbers with 2 columns of length numberofpoints \n",
    "\n",
    "# we have to flip the normal dist array to get the right dimensions \n",
    "z = np.c_[np.apply_along_axis(FrankeOnRow, 1, XY)] + np.c_[noise*np.random.normal(0,1,numberofpoints)] \n",
    "\n",
    "# Now we make some \"clean\" data \n",
    "# Models will never be trained on this, only tested against it \n",
    "cleanXY = np.random.rand(numberofpoints, 2) \n",
    "cleanz = np.c_[np.apply_along_axis(FrankeOnRow, 1, cleanXY)] + np.c_[noise*np.random.normal(0,1,numberofpoints)] \n",
    "\n",
    "poly = PolynomialFeatures(3)\n",
    "myLasso = Lasso(0.01)\n",
    "myLasso.train(poly.fit_transform(XY), z)\n",
    "print(r2score(cleanz))\n"
   ]
  }
 ],
 "metadata": {
  "kernelspec": {
   "display_name": "Python 3",
   "language": "python",
   "name": "python3"
  },
  "language_info": {
   "codemirror_mode": {
    "name": "ipython",
    "version": 3
   },
   "file_extension": ".py",
   "mimetype": "text/x-python",
   "name": "python",
   "nbconvert_exporter": "python",
   "pygments_lexer": "ipython3",
   "version": "3.6.5"
  }
 },
 "nbformat": 4,
 "nbformat_minor": 2
}
