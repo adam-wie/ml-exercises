{
 "cells": [
  {
   "cell_type": "code",
   "execution_count": 2,
   "metadata": {},
   "outputs": [],
   "source": [
    "import numpy as np"
   ]
  },
  {
   "cell_type": "code",
   "execution_count": 18,
   "metadata": {},
   "outputs": [
    {
     "name": "stdout",
     "output_type": "stream",
     "text": [
      "{64}\n"
     ]
    },
    {
     "ename": "TypeError",
     "evalue": "unhashable type: 'numpy.ndarray'",
     "output_type": "error",
     "traceback": [
      "\u001b[1;31m---------------------------------------------------------------------------\u001b[0m",
      "\u001b[1;31mTypeError\u001b[0m                                 Traceback (most recent call last)",
      "\u001b[1;32m<ipython-input-18-ab44af41860a>\u001b[0m in \u001b[0;36m<module>\u001b[1;34m()\u001b[0m\n\u001b[0;32m     43\u001b[0m             \u001b[0mbuild_next_row\u001b[0m\u001b[1;33m(\u001b[0m\u001b[0mnp\u001b[0m\u001b[1;33m.\u001b[0m\u001b[0mvstack\u001b[0m\u001b[1;33m(\u001b[0m\u001b[0mso_far\u001b[0m\u001b[1;33m,\u001b[0m \u001b[0mrow\u001b[0m\u001b[1;33m)\u001b[0m\u001b[1;33m,\u001b[0m \u001b[0mnew_candidates\u001b[0m\u001b[1;33m)\u001b[0m\u001b[1;33m\u001b[0m\u001b[0m\n\u001b[0;32m     44\u001b[0m \u001b[1;33m\u001b[0m\u001b[0m\n\u001b[1;32m---> 45\u001b[1;33m \u001b[0mbuild_matrixes\u001b[0m\u001b[1;33m(\u001b[0m\u001b[1;36m8\u001b[0m\u001b[1;33m)\u001b[0m\u001b[1;33m\u001b[0m\u001b[0m\n\u001b[0m",
      "\u001b[1;32m<ipython-input-18-ab44af41860a>\u001b[0m in \u001b[0;36mbuild_matrixes\u001b[1;34m(size)\u001b[0m\n\u001b[0;32m     32\u001b[0m \u001b[1;32mdef\u001b[0m \u001b[0mbuild_matrixes\u001b[0m\u001b[1;33m(\u001b[0m\u001b[0msize\u001b[0m\u001b[1;33m)\u001b[0m \u001b[1;33m:\u001b[0m\u001b[1;33m\u001b[0m\u001b[0m\n\u001b[0;32m     33\u001b[0m     \u001b[1;32mfor\u001b[0m \u001b[0mbs\u001b[0m \u001b[1;32min\u001b[0m \u001b[0mkeys\u001b[0m \u001b[1;33m:\u001b[0m\u001b[1;33m\u001b[0m\u001b[0m\n\u001b[1;32m---> 34\u001b[1;33m         \u001b[0mbuild_next_row\u001b[0m\u001b[1;33m(\u001b[0m\u001b[0mrow_from_bitstring\u001b[0m\u001b[1;33m(\u001b[0m\u001b[0mbs\u001b[0m\u001b[1;33m)\u001b[0m\u001b[1;33m,\u001b[0m \u001b[0mset\u001b[0m\u001b[1;33m(\u001b[0m\u001b[0mgoes_with_row\u001b[0m\u001b[1;33m[\u001b[0m\u001b[0mbs\u001b[0m\u001b[1;33m]\u001b[0m\u001b[1;33m)\u001b[0m\u001b[1;33m)\u001b[0m\u001b[1;33m\u001b[0m\u001b[0m\n\u001b[0m\u001b[0;32m     35\u001b[0m \u001b[1;33m\u001b[0m\u001b[0m\n\u001b[0;32m     36\u001b[0m \u001b[1;32mdef\u001b[0m \u001b[0mbuild_next_row\u001b[0m\u001b[1;33m(\u001b[0m\u001b[0mso_far\u001b[0m\u001b[1;33m,\u001b[0m \u001b[0mcandidate_rows\u001b[0m\u001b[1;33m)\u001b[0m \u001b[1;33m:\u001b[0m\u001b[1;33m\u001b[0m\u001b[0m\n",
      "\u001b[1;31mTypeError\u001b[0m: unhashable type: 'numpy.ndarray'"
     ]
    }
   ],
   "source": [
    "def row_from_bitstring(bs) :\n",
    "    A = np.array([int(bs[i]) for i in range(0,len(bs))])\n",
    "    A.reshape(1,-1)\n",
    "    return A\n",
    "\n",
    "def bitstring_from_row(row) :\n",
    "    return ''.join([str(x[0]) for x in row])\n",
    "\n",
    "        \n",
    "valid_rows = []\n",
    "keys = []\n",
    "\n",
    "for i in range(0,2**(8)) :\n",
    "    bs = format(i, '08b')\n",
    "    A = row_from_bitstring(bs)\n",
    "    if (np.sum(A, dtype=np.int32) % 2) == 1 : \n",
    "        valid_rows.append((bs,A))\n",
    "        keys.append(bs)\n",
    "    \n",
    "def possible_rows(row, candidates) :\n",
    "    return [cand for cand in candidates if row[1] @ (cand[1]).T % 2 ==  0]\n",
    "\n",
    "goes_with_row = {}\n",
    "\n",
    "for row in valid_rows :\n",
    "    goes_with_row[row[0]] = possible_rows(row, valid_rows) \n",
    "\n",
    "print(set([len(goes_with_row[bs]) for bs in keys]))\n",
    "\n",
    "unitaries = []\n",
    "\n",
    "def build_matrixes(size) :\n",
    "    for bs in keys :\n",
    "        build_next_row(row_from_bitstring(bs), set(goes_with_row[bs]))\n",
    "\n",
    "def build_next_row(so_far, candidate_rows) :\n",
    "    if len(so_far.shape) > 1 and so_far.shape[1] == 8 :\n",
    "        unitaries.append(so_far)\n",
    "        print(so_far)\n",
    "    else :\n",
    "        for row in candidate_rows :\n",
    "            new_candidates = candidate_rows.intersect(goes_with_row[bitstring_from_row(row)])\n",
    "            build_next_row(np.vstack(so_far, row), new_candidates)\n",
    "        \n",
    "build_matrixes(8)"
   ]
  },
  {
   "cell_type": "code",
   "execution_count": null,
   "metadata": {},
   "outputs": [],
   "source": []
  }
 ],
 "metadata": {
  "kernelspec": {
   "display_name": "Python 3",
   "language": "python",
   "name": "python3"
  },
  "language_info": {
   "codemirror_mode": {
    "name": "ipython",
    "version": 3
   },
   "file_extension": ".py",
   "mimetype": "text/x-python",
   "name": "python",
   "nbconvert_exporter": "python",
   "pygments_lexer": "ipython3",
   "version": "3.6.5"
  }
 },
 "nbformat": 4,
 "nbformat_minor": 2
}
