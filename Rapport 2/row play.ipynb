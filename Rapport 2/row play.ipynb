{
 "cells": [
  {
   "cell_type": "code",
   "execution_count": 1,
   "metadata": {},
   "outputs": [],
   "source": [
    "import numpy as np"
   ]
  },
  {
   "cell_type": "code",
   "execution_count": 34,
   "metadata": {},
   "outputs": [
    {
     "name": "stdout",
     "output_type": "stream",
     "text": [
      "64\n"
     ]
    }
   ],
   "source": [
    "def row_from_bitstring(bs) :\n",
    "    A = np.array([int(bs[i]) for i in range(0,len(bs))])\n",
    "    A.reshape(1,-1)\n",
    "    return A\n",
    "\n",
    "valid_rows = []\n",
    "keys = []\n",
    "\n",
    "for i in range(0,2**(8)) :\n",
    "    bs = format(i, '08b')\n",
    "    A = row_from_bitstring(bs)\n",
    "    if (np.sum(A, dtype=np.int32) % 2) == 1 : \n",
    "        valid_rows.append((bs,A))\n",
    "        keys.append(bs)\n",
    "    \n",
    "def possible_rows(row, candidates) :\n",
    "    return [cand for cand in candidates if row[1] @ (cand[1]).T == 0]\n",
    "\n",
    "goes_with_row = {}\n",
    "\n",
    "for row in valid_rows :\n",
    "    goes_with_row[row[0]] = possible_rows(row, valid_rows) \n",
    "\n",
    "print(len([bs for bs in keys if len(goes_with_row[bs]) > 7 ]))\n"
   ]
  },
  {
   "cell_type": "code",
   "execution_count": null,
   "metadata": {},
   "outputs": [],
   "source": []
  }
 ],
 "metadata": {
  "kernelspec": {
   "display_name": "Python 3",
   "language": "python",
   "name": "python3"
  },
  "language_info": {
   "codemirror_mode": {
    "name": "ipython",
    "version": 3
   },
   "file_extension": ".py",
   "mimetype": "text/x-python",
   "name": "python",
   "nbconvert_exporter": "python",
   "pygments_lexer": "ipython3",
   "version": "3.6.5"
  }
 },
 "nbformat": 4,
 "nbformat_minor": 2
}
