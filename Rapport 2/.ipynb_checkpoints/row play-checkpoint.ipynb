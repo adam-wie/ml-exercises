{
 "cells": [
  {
   "cell_type": "code",
   "execution_count": 3,
   "metadata": {},
   "outputs": [],
   "source": [
    "import numpy as np"
   ]
  },
  {
   "cell_type": "code",
   "execution_count": 8,
   "metadata": {},
   "outputs": [
    {
     "name": "stdout",
     "output_type": "stream",
     "text": [
      "{64, 16, 4, 1}\n",
      "['01111111', '10111111', '11011111', '11101111', '11110111', '11111011', '11111101', '11111110']\n",
      "['00011111', '00101111', '00110111', '00111011', '00111101', '00111110', '01001111', '01010111', '01011011', '01011101', '01011110', '01100111', '01101011', '01101101', '01101110', '01110011', '01110101', '01110110', '01111001', '01111010', '01111100', '10001111', '10010111', '10011011', '10011101', '10011110', '10100111', '10101011', '10101101', '10101110', '10110011', '10110101', '10110110', '10111001', '10111010', '10111100', '11000111', '11001011', '11001101', '11001110', '11010011', '11010101', '11010110', '11011001', '11011010', '11011100', '11100011', '11100101', '11100110', '11101001', '11101010', '11101100', '11110001', '11110010', '11110100', '11111000']\n",
      "['00000111', '00001011', '00001101', '00001110', '00010011', '00010101', '00010110', '00011001', '00011010', '00011100', '00100011', '00100101', '00100110', '00101001', '00101010', '00101100', '00110001', '00110010', '00110100', '00111000', '01000011', '01000101', '01000110', '01001001', '01001010', '01001100', '01010001', '01010010', '01010100', '01011000', '01100001', '01100010', '01100100', '01101000', '01110000', '10000011', '10000101', '10000110', '10001001', '10001010', '10001100', '10010001', '10010010', '10010100', '10011000', '10100001', '10100010', '10100100', '10101000', '10110000', '11000001', '11000010', '11000100', '11001000', '11010000', '11100000']\n",
      "['00000001', '00000010', '00000100', '00001000', '00010000', '00100000', '01000000', '10000000']\n"
     ]
    }
   ],
   "source": [
    "def row_from_bitstring(bs) :\n",
    "    A = np.array([int(bs[i]) for i in range(0,len(bs))])\n",
    "    A.reshape(1,-1)\n",
    "    return A\n",
    "\n",
    "valid_rows = []\n",
    "keys = []\n",
    "\n",
    "for i in range(0,2**(8)) :\n",
    "    bs = format(i, '08b')\n",
    "    A = row_from_bitstring(bs)\n",
    "    if (np.sum(A, dtype=np.int32) % 2) == 1 : \n",
    "        valid_rows.append((bs,A))\n",
    "        keys.append(bs)\n",
    "    \n",
    "def possible_rows(row, candidates) :\n",
    "    return [cand for cand in candidates if row[1] @ (cand[1]).T == 0]\n",
    "\n",
    "goes_with_row = {}\n",
    "\n",
    "for row in valid_rows :\n",
    "    goes_with_row[row[0]] = possible_rows(row, valid_rows) \n",
    "\n",
    "print(set([len(goes_with_row[bs]) for bs in keys]))\n",
    "print([bs for bs in keys if len(goes_with_row[bs]) == 1 ])\n",
    "print([bs for bs in keys if len(goes_with_row[bs]) == 4 ])\n",
    "print([bs for bs in keys if len(goes_with_row[bs]) == 16 ])\n",
    "print([bs for bs in keys if len(goes_with_row[bs]) == 64 ])\n"
   ]
  },
  {
   "cell_type": "code",
   "execution_count": null,
   "metadata": {},
   "outputs": [],
   "source": []
  }
 ],
 "metadata": {
  "kernelspec": {
   "display_name": "Python 3",
   "language": "python",
   "name": "python3"
  },
  "language_info": {
   "codemirror_mode": {
    "name": "ipython",
    "version": 3
   },
   "file_extension": ".py",
   "mimetype": "text/x-python",
   "name": "python",
   "nbconvert_exporter": "python",
   "pygments_lexer": "ipython3",
   "version": "3.6.5"
  }
 },
 "nbformat": 4,
 "nbformat_minor": 2
}
