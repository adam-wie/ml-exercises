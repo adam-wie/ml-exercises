{
 "cells": [
  {
   "cell_type": "markdown",
   "metadata": {},
   "source": [
    "# A neural network"
   ]
  },
  {
   "cell_type": "code",
   "execution_count": 92,
   "metadata": {},
   "outputs": [],
   "source": [
    "import numpy as np\n",
    "from sklearn.model_selection import train_test_split\n",
    "import matplotlib.pyplot as plt"
   ]
  },
  {
   "cell_type": "code",
   "execution_count": 111,
   "metadata": {},
   "outputs": [],
   "source": [
    "def sigmoid(x) : \n",
    "    return 1/(1+np.exp(-x))\n",
    "\n",
    "def dsigmoid(x) :\n",
    "    return sigmoid(x)*(1-sigmoid(x))\n",
    "\n",
    "def relu(x) :\n",
    "    return np.maximum(x,0)\n",
    "\n",
    "def drelu(x) :\n",
    "    return (x > 0)*1\n",
    "\n",
    "class NN_layer : \n",
    "    \n",
    "    def __init__(self, input_size, output_size, activation_function) : \n",
    "        self.activation = activation_function\n",
    "        self.weights = np.random.uniform(-0.7, 0.7, (input_size, output_size)) \n",
    "        self.bias = np.random.rand(1, output_size)\n",
    "    \n",
    "    # inputs should be a row vector\n",
    "    # or a matrix with each row having the right dimension \n",
    "    def activate(self, inputs) :\n",
    "        z = (inputs @ self.weights) + self.bias\n",
    "        a = self.activation(z)\n",
    "        return a, z\n",
    "\n",
    "class my_NN :\n",
    "    \n",
    "    activation_functions = {\n",
    "        'sigmoid' : (sigmoid, dsigmoid),\n",
    "        'linear' : (lambda x : x, lambda x : 1),\n",
    "        'relu' : (relu, drelu)\n",
    "    }\n",
    "        \n",
    "    def __init__(self, layer_sizes, hidden_activation, out_activation) :\n",
    "        self.hact, self.dhact = self.activation_functions[hidden_activation]\n",
    "        self.outact, self.doutact = self.activation_functions[out_activation]\n",
    "        self.number_of_layers = len(layer_sizes)-1\n",
    "        # add the hidden layers\n",
    "        self.layers = [NN_layer(layer_sizes[k], layer_sizes[k+1], self.hact) for k in range(0, self.number_of_layers-1)]\n",
    "        # add the final layer\n",
    "        self.layers.append(NN_layer(layer_sizes[self.number_of_layers-1], layer_sizes[self.number_of_layers], self.outact))\n",
    "    \n",
    "    def feed_forward(self, inputs) :\n",
    "        acts = [inputs]\n",
    "        zs = []\n",
    "        for l in range(0, self.number_of_layers) :\n",
    "            a,z = self.layers[l].activate(acts[l])\n",
    "            acts.append(a)\n",
    "            zs.append(z)\n",
    "               \n",
    "        return acts, zs \n",
    "\n",
    "    def predict(self, inputs) :\n",
    "        acts, zs = self.feed_forward(inputs)\n",
    "        return acts[-1]\n",
    "\n",
    "    \n",
    "    def one_step_back_propagate(self, batch, learning_rate, dsummand) :\n",
    "        batch_size = batch.shape[0] # number of rows in batch\n",
    "        deltas = [] # list of deltas, build starting from the back\n",
    "        curr_index = self.number_of_layers - 1\n",
    "        \n",
    "        # first feed forward to compute as and zs\n",
    "        acts, zs = self.feed_forward(batch)\n",
    "                \n",
    "        # the first delta is computed using the output layer \n",
    "        deltas.append(dsummand(acts[curr_index+1])*self.doutact(zs[curr_index]))\n",
    "        self.layers[curr_index].weights -= learning_rate/batch_size * (acts[curr_index].T @ deltas[-1])\n",
    "        self.layers[curr_index].bias -= learning_rate * np.mean(deltas[-1], axis=0)\n",
    "        # Each subsequent delta is computed using the hidden layers\n",
    "        for l in range(2, self.number_of_layers+1) :\n",
    "            curr_index = self.number_of_layers-l \n",
    "            deltas.append(( deltas[-1] @ self.layers[curr_index+1].weights.T)*self.dhact(zs[curr_index]))\n",
    "            self.layers[curr_index].weights -= learning_rate/batch_size * (acts[curr_index].T @ deltas[-1])\n",
    "            self.layers[curr_index].bias -= learning_rate * np.mean(deltas[-1], axis=0)\n",
    "            \n",
    "        \n",
    "    def train(self, X, Y, learning_rate, epochs, dsummand, batch_size = 1) :\n",
    "        N = Y.shape[0] # number of rows in Y, i.e. number of data points\n",
    "        m = int(N/batch_size) # number of batches\n",
    "        for _ in range(epochs) : \n",
    "            batches = np.random.permutation(N).reshape((-1, m))\n",
    "            for b in batches :\n",
    "                X_batch = X[b]\n",
    "                Y_batch = Y[b]\n",
    "                dout = (lambda a : dsummand(a,Y_batch))\n",
    "                self.one_step_back_propagate(X_batch, learning_rate, dout)\n",
    "            \n",
    "    \n",
    "nn = my_NN([2,3,5,3,7,1], 'sigmoid', 'sigmoid')\n",
    "inp = np.array([[0,1], [1,0]])\n",
    "acts, zs = nn.feed_forward(inp)\n",
    "\n",
    "nn.one_step_back_propagate(inp, 0.1, lambda x : x)"
   ]
  },
  {
   "cell_type": "code",
   "execution_count": 126,
   "metadata": {},
   "outputs": [
    {
     "name": "stdout",
     "output_type": "stream",
     "text": [
      "Network build and trained\n"
     ]
    },
    {
     "data": {
      "image/png": "[encoded data removed]",
      "text/plain": [
       "<Figure size 432x288 with 1 Axes>"
      ]
     },
     "metadata": {},
     "output_type": "display_data"
    }
   ],
   "source": [
    "def diff_single_row_square_sum(guess, target) :\n",
    "    return 2*(guess - target) \n",
    "\n",
    "#### setup som basic data\n",
    "#### first the function we are trying to approximate\n",
    "def p3(x) :\n",
    "    return (x+1)*(x-1)*(x-1)\n",
    "\n",
    "#### xs will be a list of random numbers between -1 and 2\n",
    "xs = 3*np.random.rand(1000,1) - 1 \n",
    "#### ys are the p3 values of the xs\n",
    "ys = p3(xs)\n",
    "# Split our data into training and testing. \n",
    "# 20% (0.2) saved to test aginst\n",
    "x_train, x_test, y_train, y_test = train_test_split(xs, ys, test_size = 0.2)\n",
    "\n",
    "net = my_NN([1,3,5,7,1], 'relu', 'linear')\n",
    "net.train(x_train, y_train, 0.01, 1000, diff_single_row_square_sum, batch_size = 40)\n",
    "print(\"Network build and trained\")\n",
    "\n",
    "# generate a bunch of x's for plotting\n",
    "xstep = 0.01\n",
    "xpoints = np.arange(-1.0, 2.0, xstep)\n",
    "\n",
    "# Compute the predicted y values for all the plotting x's\n",
    "ypredict = net.predict(xpoints.reshape(-1,1))\n",
    "#print(ypredict.shape)\n",
    "#print(ypredict)\n",
    "# Do the plotting\n",
    "# first draw a line between the plotting x's and their predicted y's \n",
    "plt.plot(xpoints, ypredict, \"r-\")\n",
    "# Then plot the points we predicted from\n",
    "plt.plot(xpoints, p3(xpoints) ,'b--')\n",
    "# Setup axis and labels\n",
    "plt.axis([-1.0, 2.0, -0.5, 3.5])\n",
    "plt.xlabel(r'$x$')\n",
    "plt.ylabel(r'$y$')\n",
    "plt.title(r'A neural network really trying hard')\n",
    "plt.show()\n",
    "\n"
   ]
  },
  {
   "cell_type": "code",
   "execution_count": null,
   "metadata": {},
   "outputs": [],
   "source": []
  }
 ],
 "metadata": {
  "kernelspec": {
   "display_name": "Python 3",
   "language": "python",
   "name": "python3"
  },
  "language_info": {
   "codemirror_mode": {
    "name": "ipython",
    "version": 3
   },
   "file_extension": ".py",
   "mimetype": "text/x-python",
   "name": "python",
   "nbconvert_exporter": "python",
   "pygments_lexer": "ipython3",
   "version": "3.6.5"
  }
 },
 "nbformat": 4,
 "nbformat_minor": 2
}
