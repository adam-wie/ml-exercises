{
 "cells": [
  {
   "cell_type": "markdown",
   "metadata": {},
   "source": [
    "# Project 2, part c - logistic regression"
   ]
  },
  {
   "cell_type": "markdown",
   "metadata": {},
   "source": [
    "## Imports"
   ]
  },
  {
   "cell_type": "code",
   "execution_count": 14,
   "metadata": {},
   "outputs": [],
   "source": [
    "import numpy as np\n",
    "from sklearn.model_selection import train_test_split\n",
    "from sklearn import datasets, linear_model\n",
    "import matplotlib.pyplot as plt\n",
    "from mpl_toolkits.axes_grid1 import make_axes_locatable\n",
    "\n",
    "np.random.seed(12) # for replication purposes"
   ]
  },
  {
   "cell_type": "markdown",
   "metadata": {},
   "source": [
    "## (Stochastic) Gradient Descent"
   ]
  },
  {
   "cell_type": "code",
   "execution_count": 3,
   "metadata": {},
   "outputs": [],
   "source": [
    "####\n",
    "# This function does one sgd epoch.\n",
    "# The assumptions are that the is some big data set and corresponding cost function floating around\n",
    "# They should come from the function calling one_epoch_sgd.\n",
    "#\n",
    "# N is the number of data points, i.e. the number of times we will update our guess;\n",
    "# curr_guess is the current guess at a minimum (to be updated);\n",
    "# learning_rate is the size of the steps we take. \n",
    "#\n",
    "# diff is a function that takes an index i and a vector theta0, \n",
    "# it computes the gradient of the cost function at the point theta0,\n",
    "# when the only data used is the i'th row of the whole data set.\n",
    "\n",
    "def one_epoch_sgd(N, curr_guess, diff, learning_rate) :\n",
    "    # make a list of 0,1,2, ... N-1,\n",
    "    # shuffled around\n",
    "    shuffled_indices = np.random.permutation(N)\n",
    "    for i in shuffled_indices :\n",
    "        curr_guess = curr_guess - learning_rate * diff(i, curr_guess)\n",
    "    \n",
    "    return curr_guess\n",
    "\n",
    "####\n",
    "# This function uses sgd to find the minimum of a cost function. \n",
    "# The assumption is that the cost function breaks into a sum \n",
    "# C(theta) = sum_{i=1}^N c(theta; X[i], y[i])\n",
    "#\n",
    "# dsummand should compute the gradient of c at a given theta0, \n",
    "# if it is also given a row of data and a coresponding y.\n",
    "#\n",
    "# We are given the data X, ys;\n",
    "# the number of epochs and the learning rate. \n",
    "\n",
    "def sgd_min(X, ys, dsummand, epochs, learning_rate) :\n",
    "    N = len(ys) # number of data points \n",
    "    p = X.shape[1] # number of columns in X, i.e. number of parameters\n",
    "    theta = np.random.randn(p,1) # theta is initialized to random values\n",
    "    # we turn dsummand into a function that takes a row numbers ks, and a theta0,\n",
    "    # it then evaluteas the dsummand at theta0 when the data is the k'th row of X\n",
    "    # and the k'th entry of y.\n",
    "    diff_single_row = (lambda k, theta0 : dsummand(X[[k],:], ys[k], theta0))\n",
    "    \n",
    "    # loop over the epochs and for each one do a single epoch step\n",
    "    for i in range(epochs) :\n",
    "        theta = one_epoch_sgd(N, theta, diff_single_row, learning_rate)\n",
    "        \n",
    "    return theta\n",
    "\n",
    "\n",
    "####\n",
    "# This is the same as one_ecpoch_sgd but it uses mini batches\n",
    "# It must be the case that batch_size divides N\n",
    "def one_epoch_batch(N, curr_guess, diff, learning_rate, batch_size = 1) :\n",
    "    m = int(N/batch_size) # number of batches\n",
    "    # 0,1,2, ... N-1, shuffled around\n",
    "    # in the shape of a matrix with m columns\n",
    "    # each row consitutes a batch\n",
    "    batches = np.random.permutation(N).reshape((-1, m))\n",
    "    for batch in batches :\n",
    "        # first compute the gradient at each index in the batch\n",
    "        # hstack joins them into one matrix\n",
    "        grad_matrix = np.hstack([diff(b, curr_guess) for b in batch])\n",
    "        # avarage the entries of each row \n",
    "        grad = np.mean(grad_matrix, axis=1).reshape(-1, 1)\n",
    "        \n",
    "        # update guess\n",
    "        curr_guess = curr_guess - learning_rate * grad\n",
    "        \n",
    "    return curr_guess\n",
    "\n",
    "####\n",
    "# Now we have an sgd_min using batches\n",
    "# bs, the batch size, mush divide the number of data points\n",
    "def sgd_bathces_min(X, ys, dsummand, epochs, learning_rate, bs = 1) :\n",
    "    N = len(ys) # number of data points \n",
    "    p = X.shape[1] # number of columns in X, i.e. number of parameters\n",
    "    theta = np.random.randn(p,1) # theta is initialized to random values\n",
    "    # we turn dsummand into a function that takes a row numbers k, and a theta0,\n",
    "    # it then evaluteas the dsummand at theta0 when the data is the k'th row of X\n",
    "    # and the k'th entry of y.\n",
    "    diff_single_row = (lambda k, theta0 : dsummand(X[[k],:], ys[k], theta0))\n",
    "    \n",
    "    # loop over the epochs and for each one do a single epoch step\n",
    "    for i in range(epochs) :\n",
    "        theta = one_epoch_batch(N, theta, diff_single_row, learning_rate, batch_size = bs)\n",
    "        \n",
    "    return theta\n",
    "\n",
    "\n",
    "####\n",
    "# xs is a row vector\n",
    "# y is the \"true\" values of that row of parameters\n",
    "# b0 is a column vector\n",
    "# This function returns the gradient of the function (xs @ beta - y)**2 \n",
    "# evaluated at b0.\n",
    "# This is to be used for sgd when the cost function is a least squares one\n",
    "def diff_single_row_square_sum(xs, y, b0) :\n",
    "    return 2*(xs @ b0 - y)*(xs.T) \n",
    "\n",
    "\n",
    "# as above but using cross entropy\n",
    "def sigmoid(x) : \n",
    "    return 1/(1+np.exp(-x))\n",
    "\n",
    "def diff_single_row_cross_entropy(xs, y, b0) :\n",
    "    return (sigmoid(xs @ b0) - y)*(xs.T)\n",
    "\n",
    "def diff_ss_ridge(xs, y, b0, alpha) :\n",
    "    return 2*(xs @ b0 - y)*(xs.T) + 2*alpha*b0\n"
   ]
  },
  {
   "cell_type": "code",
   "execution_count": 4,
   "metadata": {},
   "outputs": [
    {
     "name": "stdout",
     "output_type": "stream",
     "text": [
      "Own inversion\n",
      "[[3.61451104]\n",
      " [3.22566133]]\n",
      "sgdreg from scikit\n",
      "[3.59216298] [3.18621571]\n",
      "\n",
      "My things\n",
      "First without batches\n",
      "[[3.62660327]\n",
      " [3.38522977]]\n",
      "Then with size 10 batches\n",
      "[[3.65796724]\n",
      " [3.31095802]]\n"
     ]
    }
   ],
   "source": [
    "import matplotlib.pyplot as plt\n",
    "from sklearn.linear_model import SGDRegressor\n",
    "\n",
    "x = 2*np.random.rand(100,1)\n",
    "y = 4+3*x+np.random.randn(100,1)\n",
    "\n",
    "xb = np.c_[np.ones((100,1)), x]\n",
    "theta_linreg = np.linalg.inv(xb.T.dot(xb)).dot(xb.T).dot(y)\n",
    "print(\"Own inversion\")\n",
    "print(theta_linreg)\n",
    "sgdreg = SGDRegressor(max_iter = 50, penalty=None, eta0=0.1)\n",
    "sgdreg.fit(x,y.ravel())\n",
    "print(\"sgdreg from scikit\")\n",
    "print(sgdreg.intercept_, sgdreg.coef_)\n",
    "\n",
    "print(\"\")\n",
    "print(\"My things\")\n",
    "print(\"First without batches\")\n",
    "print(sgd_min(xb, y, diff_single_row_square_sum, 50, 0.1))\n",
    "print(\"Then with size 10 batches\")\n",
    "print(sgd_bathces_min(xb, y, diff_single_row_square_sum, 50, 0.1, bs=10))\n"
   ]
  },
  {
   "cell_type": "code",
   "execution_count": 5,
   "metadata": {},
   "outputs": [],
   "source": [
    "class my_logistic_regression :\n",
    "    \n",
    "    def __init__(self, epochs = 1000, eta = 0.1) :\n",
    "        self.theta = 0\n",
    "        self.epochs = epochs\n",
    "        self.eta = eta\n",
    "        \n",
    "    def fit(self, X, ys) :\n",
    "        self.theta = sgd_min(X, ys, diff_single_row_cross_entropy, self.epochs, self.eta)\n",
    "        \n",
    "    def soft_predict(self, X) :\n",
    "        return sigmoid(X @ self.theta)\n",
    "    \n",
    "    def predict(self, X) :\n",
    "        return np.around(sigmoid(X @ self.theta))\n",
    "    \n",
    "def accuracy(target, guesses) : \n",
    "    return np.mean(target*guesses)\n"
   ]
  },
  {
   "cell_type": "code",
   "execution_count": 8,
   "metadata": {},
   "outputs": [
    {
     "data": {
      "image/png": "[encoded data removed]",
      "text/plain": [
       "<Figure size 432x288 with 1 Axes>"
      ]
     },
     "metadata": {},
     "output_type": "display_data"
    },
    {
     "name": "stdout",
     "output_type": "stream",
     "text": [
      "Accuracy: 0.380000\n"
     ]
    },
    {
     "data": {
      "image/png": "[encoded data removed]",
      "text/plain": [
       "<Figure size 432x288 with 1 Axes>"
      ]
     },
     "metadata": {},
     "output_type": "display_data"
    },
    {
     "name": "stdout",
     "output_type": "stream",
     "text": [
      "Accuracy: 0.213750\n",
      "\n",
      "coeffs from sci-kit learn\n",
      "[0.58869292]\n",
      "[[ 1.30842946 -4.77834447]]\n",
      "\n",
      "My coeffs\n",
      "[[ 0.58693607]\n",
      " [ 1.30556755]\n",
      " [-4.81228431]]\n"
     ]
    }
   ],
   "source": [
    "def generate_data():\n",
    "    np.random.seed(0)\n",
    "    X, y = datasets.make_moons(1000, noise=0.20)\n",
    "    return X, y\n",
    "\n",
    "def visualize(X, y, clf):\n",
    "    # plt.scatter(X[:, 0], X[:, 1], s=40, c=y, cmap=plt.cm.Spectral)\n",
    "    # plt.show()\n",
    "    plot_decision_boundary( lambda x: clf.predict(x), X, y)\n",
    "\n",
    "def plot_decision_boundary(pred_func, X, y):\n",
    "    # Set min and max values and give it some padding\n",
    "    x_min, x_max = X[:, 0].min() - .5, X[:, 0].max() + .5\n",
    "    y_min, y_max = X[:, 1].min() - .5, X[:, 1].max() + .5\n",
    "    h = 0.01\n",
    "    # Generate a grid of points with distance h between them\n",
    "    xx, yy = np.meshgrid(np.arange(x_min, x_max, h), np.arange(y_min, y_max, h))\n",
    "    # Predict the function value for the whole gid\n",
    "    Z = pred_func(np.c_[xx.ravel(), yy.ravel()])\n",
    "    Z = Z.reshape(xx.shape)\n",
    "    # Plot the contour and training examples\n",
    "    plt.contourf(xx, yy, Z, cmap=plt.cm.Spectral)\n",
    "    plt.scatter(X[:, 0], X[:, 1], c=y, cmap=plt.cm.Spectral)\n",
    "    plt.title(\"Logistic Regression\")\n",
    "    plt.show()\n",
    "    \n",
    "def classify(X, y):\n",
    "    clf = linear_model.LogisticRegressionCV()\n",
    "    clf.fit(X, y)\n",
    "    return clf\n",
    "\n",
    "X, y = generate_data()\n",
    "X_train, X_test, y_train, y_test = train_test_split(X, y, test_size = 0.2)\n",
    "# visualize(X, y)\n",
    "clf = classify(X_train, y_train)\n",
    "visualize(X_test, y_test, clf)\n",
    "\n",
    "print(\"Accuracy: %f\" % accuracy(y_test, clf.predict(X_test)))\n",
    "\n",
    "def add_ones(X) :\n",
    "    return np.hstack((np.ones((X.shape[0], 1)), X))\n",
    "\n",
    "#### add ones\n",
    "X_train = add_ones(X_train)\n",
    "my_logreg = my_logistic_regression(epochs = 1000, eta = 0.01)\n",
    "my_logreg.fit(X_train,y_train)\n",
    "\n",
    "pdb = lambda x : my_logreg.predict(x)\n",
    "\n",
    "# Set min and max values and give it some padding\n",
    "x_min, x_max = X_test[:, 0].min() - .5, X_test[:, 0].max() + .5\n",
    "y_min, y_max = X_test[:, 1].min() - .5, X_test[:, 1].max() + .5\n",
    "h = 0.01\n",
    "# Generate a grid of points with distance h between them\n",
    "xx, yy = np.meshgrid(np.arange(x_min, x_max, h), np.arange(y_min, y_max, h))\n",
    "# Predict the function value for the whole gid\n",
    "Z =pdb(np.c_[np.ones((xx.shape)).ravel(), xx.ravel(), yy.ravel()])\n",
    "Z = Z.reshape(xx.shape)\n",
    "# Plot the contour and training examples\n",
    "plt.contourf(xx, yy, Z, cmap=plt.cm.Spectral)\n",
    "plt.scatter(X_test[:, 0], X_test[:, 1], c=y_test, cmap=plt.cm.Spectral)\n",
    "plt.title(\"Logistic Regression\")\n",
    "plt.show()\n",
    "\n",
    "print(\"Accuracy: %f\" % accuracy(y_test, my_logreg.predict(add_ones(X_test))))\n",
    "\n",
    "print(\"\")\n",
    "print(\"coeffs from sci-kit learn\")\n",
    "print(clf.intercept_)\n",
    "print(clf.coef_)\n",
    "print(\"\")\n",
    "print(\"My coeffs\")\n",
    "print(my_logreg.theta)\n"
   ]
  },
  {
   "cell_type": "markdown",
   "metadata": {},
   "source": [
    "## Load in Ising model date\n",
    "\n",
    "This is basically just copied from the Mehte et al notebooks"
   ]
  },
  {
   "cell_type": "code",
   "execution_count": 17,
   "metadata": {},
   "outputs": [
    {
     "data": {
      "image/png": "[encoded data removed]",
      "text/plain": [
       "<Figure size 432x288 with 2 Axes>"
      ]
     },
     "metadata": {},
     "output_type": "display_data"
    }
   ],
   "source": [
    "##### prepare training and test data sets\n",
    "import pickle, os\n",
    "\n",
    "# path to data directory\n",
    "path_to_data=os.path.expanduser('~')+'\\Documents\\GitHub\\ml-exercises\\Rapport 2\\Isingdata\\\\'\n",
    "\n",
    "# load data\n",
    "file_name = \"Ising2DFM_reSample_L40_T=All.pkl\" # this file contains 16*10000 samples taken in T=np.arange(0.25,4.0001,0.25)\n",
    "data = pickle.load(open(path_to_data+file_name,'rb')) # pickle reads the file and returns the Python object (1D array, compressed bits)\n",
    "data = np.unpackbits(data).reshape(-1, 1600) # Decompress array and reshape for convenience\n",
    "data=data.astype('int')\n",
    "data[np.where(data==0)]=-1 # map 0 state to -1 (Ising variable can take values +/-1)\n",
    "\n",
    "file_name = \"Ising2DFM_reSample_L40_T=All_labels.pkl\" # this file contains 16*10000 samples taken in T=np.arange(0.25,4.0001,0.25)\n",
    "labels = pickle.load(open(path_to_data+file_name,'rb')) # pickle reads the file and returns the Python object (here just a 1D array with the binary labels)\n",
    "\n",
    "# divide data into ordered, critical and disordered\n",
    "X_ordered=data[:70000,:]\n",
    "Y_ordered=labels[:70000]\n",
    "# we will ignore the critical temperatures\n",
    "#X_critical=data[70000:100000,:]\n",
    "#Y_critical=labels[70000:100000]\n",
    "\n",
    "X_disordered=data[100000:,:]\n",
    "Y_disordered=labels[100000:]\n",
    "\n",
    "del data,labels\n",
    "\n",
    "# define training and test data sets\n",
    "X=np.concatenate((X_ordered,X_disordered))\n",
    "Y=np.concatenate((Y_ordered,Y_disordered))\n",
    "\n",
    "# pick random data points from ordered and disordered states \n",
    "# to create the training and test sets\n",
    "X_train,X_test,Y_train,Y_test=train_test_split(X,Y,test_size=0.2)\n",
    "\n",
    "##### plot a few Ising states\n",
    "\n",
    "# set colourbar map\n",
    "cmap_args=dict(cmap='plasma_r')\n",
    "\n",
    "# plot states\n",
    "fig, axarr = plt.subplots(nrows=1, ncols=2)\n",
    "\n",
    "axarr[0].imshow(X_ordered[20001].reshape(40,40),**cmap_args)\n",
    "axarr[0].set_title('$\\\\mathrm{ordered\\\\ phase}$',fontsize=16)\n",
    "axarr[0].tick_params(labelsize=16)\n",
    "\n",
    "im=axarr[1].imshow(X_disordered[50001].reshape(40,40),**cmap_args)\n",
    "axarr[1].set_title('$\\\\mathrm{disordered\\\\ phase}$',fontsize=16)\n",
    "axarr[1].tick_params(labelsize=16)\n",
    "\n",
    "fig.subplots_adjust(right=2.0)\n",
    "\n",
    "plt.show()\n"
   ]
  },
  {
   "cell_type": "code",
   "execution_count": 18,
   "metadata": {},
   "outputs": [
    {
     "name": "stdout",
     "output_type": "stream",
     "text": [
      "[1 1 1 ... 1 1 1]\n"
     ]
    }
   ],
   "source": [
    "print(X_train[1])"
   ]
  },
  {
   "cell_type": "code",
   "execution_count": 20,
   "metadata": {},
   "outputs": [
    {
     "name": "stdout",
     "output_type": "stream",
     "text": [
      "Accuracy: 0.304575\n",
      "\n",
      "My coeffs\n",
      "[[ 1.59473505]\n",
      " [ 0.40971344]\n",
      " [-0.2625668 ]\n",
      " ...\n",
      " [ 0.19589444]\n",
      " [-0.08952304]\n",
      " [ 0.02511427]]\n"
     ]
    }
   ],
   "source": [
    "#### add ones\n",
    "my_logreg = my_logistic_regression(epochs = 10, eta = 0.01)\n",
    "my_logreg.fit(add_ones(X_train),Y_train)\n",
    "\n",
    "print(\"Accuracy: %f\" % accuracy(Y_test, my_logreg.predict(add_ones(X_test))))\n",
    "\n",
    "#print(\"\")\n",
    "#print(\"coeffs from sci-kit learn\")\n",
    "#print(clf.intercept_)\n",
    "#print(clf.coef_)\n",
    "print(\"\")\n",
    "print(\"My coeffs\")\n",
    "print(my_logreg.theta)\n"
   ]
  },
  {
   "cell_type": "code",
   "execution_count": null,
   "metadata": {},
   "outputs": [],
   "source": []
  }
 ],
 "metadata": {
  "kernelspec": {
   "display_name": "Python 3",
   "language": "python",
   "name": "python3"
  },
  "language_info": {
   "codemirror_mode": {
    "name": "ipython",
    "version": 3
   },
   "file_extension": ".py",
   "mimetype": "text/x-python",
   "name": "python",
   "nbconvert_exporter": "python",
   "pygments_lexer": "ipython3",
   "version": "3.6.5"
  }
 },
 "nbformat": 4,
 "nbformat_minor": 2
}
