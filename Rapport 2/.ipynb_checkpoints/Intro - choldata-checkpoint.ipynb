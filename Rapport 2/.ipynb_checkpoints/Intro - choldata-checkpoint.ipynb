{
 "cells": [
  {
   "cell_type": "code",
   "execution_count": 93,
   "metadata": {
    "scrolled": true
   },
   "outputs": [
    {
     "name": "stdout",
     "output_type": "stream",
     "text": [
      "Using the Heights and Weights as is we get the following:\n",
      "MSE: 434.2125\n",
      "R2-score: 0.7931\n",
      "\n",
      "Using the Heights and Weights and second degree terms:\n",
      "MSE: 423.6559\n",
      "R2-score: 0.7981\n",
      "\n",
      "Using BMI:\n",
      "MSE: 484.8686\n",
      "R2-score: 0.7690\n",
      "\n"
     ]
    },
    {
     "data": {
      "image/png": "[encoded data removed]",
      "text/plain": [
       "<Figure size 432x288 with 1 Axes>"
      ]
     },
     "metadata": {},
     "output_type": "display_data"
    }
   ],
   "source": [
    "import pandas as pd\n",
    "import numpy as np\n",
    "from sklearn.linear_model import LinearRegression\n",
    "from sklearn.metrics import r2_score, mean_squared_error\n",
    "from sklearn.preprocessing import PolynomialFeatures\n",
    "import matplotlib.pyplot as plt\n",
    "\n",
    "# use pandas to read in csv file\n",
    "df = pd.read_csv('choldata.csv', header=None, delimiter=';')\n",
    "# transport it to numpy \n",
    "choldata = df.values\n",
    "# Divide into height and weight array, and cholestorol array\n",
    "HWC = np.hsplit(choldata, np.array([2]))\n",
    "HW = HWC[0]\n",
    "C = HWC[1]\n",
    "\n",
    "# Now we do linear regression, first using the \"raw\" data\n",
    "linreg = LinearRegression()\n",
    "linreg.fit(HW, C)\n",
    "predicted = linreg.predict(HW)\n",
    "print(\"Using the Heights and Weights as is we get the following:\")\n",
    "print(\"MSE: %.4f\" % mean_squared_error(C, predicted))\n",
    "print(\"R2-score: %.4f\" % r2_score(C, predicted))\n",
    "print(\"\")\n",
    "\n",
    "# Then we try to add in second degree terms\n",
    "poly = PolynomialFeatures(2, interaction_only = True)\n",
    "HW_poly = poly.fit_transform(HW)\n",
    "linreg = LinearRegression()\n",
    "linreg.fit(HW_poly, C)\n",
    "predicted = linreg.predict(HW_poly)\n",
    "print(\"Using the Heights and Weights and second degree terms:\")\n",
    "print(\"MSE: %.4f\" % mean_squared_error(C, predicted))\n",
    "print(\"R2-score: %.4f\" % r2_score(C, predicted))\n",
    "print(\"\")\n",
    "\n",
    "# Finally we do only the bmi\n",
    "# Frist a function to compute bmi, it expects a row hw = [height, weight ]\n",
    "def bmi(hw):\n",
    "    return hw[1]/(hw[0]*hw[0])\n",
    "\n",
    "BMI = np.apply_along_axis(bmi, 1, HW)\n",
    "linreg = LinearRegression()\n",
    "linreg.fit(BMI.reshape(-1,1), C)\n",
    "predicted = linreg.predict(BMI.reshape(-1,1))\n",
    "print(\"Using BMI:\")\n",
    "print(\"MSE: %.4f\" % mean_squared_error(C, predicted))\n",
    "print(\"R2-score: %.4f\" % r2_score(C, predicted))\n",
    "print(\"\")\n",
    "\n",
    "# first draw a line between the plotting x's and their predicted y's \n",
    "plt.scatter(np.apply_along_axis(bmi, 1, HW), C)\n",
    "# Setup axis and labels\n",
    "plt.xlabel(r'$bmi$')\n",
    "plt.ylabel(r'$chol$')\n",
    "plt.title(r'Scatter plot of BMI and Cholesterol levels')\n",
    "plt.show()"
   ]
  },
  {
   "cell_type": "code",
   "execution_count": null,
   "metadata": {},
   "outputs": [],
   "source": []
  }
 ],
 "metadata": {
  "kernelspec": {
   "display_name": "Python 3",
   "language": "python",
   "name": "python3"
  },
  "language_info": {
   "codemirror_mode": {
    "name": "ipython",
    "version": 3
   },
   "file_extension": ".py",
   "mimetype": "text/x-python",
   "name": "python",
   "nbconvert_exporter": "python",
   "pygments_lexer": "ipython3",
   "version": "3.6.5"
  }
 },
 "nbformat": 4,
 "nbformat_minor": 2
}
