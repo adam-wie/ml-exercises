{
 "cells": [
  {
   "cell_type": "markdown",
   "metadata": {},
   "source": [
    "# Setup"
   ]
  },
  {
   "cell_type": "markdown",
   "metadata": {},
   "source": [
    "## Imports"
   ]
  },
  {
   "cell_type": "code",
   "execution_count": 3,
   "metadata": {},
   "outputs": [],
   "source": [
    "import numpy as np\n",
    "from sklearn.linear_model import LinearRegression, Ridge, Lasso\n",
    "from sklearn.model_selection import train_test_split\n",
    "from sklearn.metrics import r2_score, mean_squared_error\n",
    "\n",
    "np.random.seed(12) # for replication purposes"
   ]
  },
  {
   "cell_type": "markdown",
   "metadata": {},
   "source": [
    "## Ising model data"
   ]
  },
  {
   "cell_type": "code",
   "execution_count": 41,
   "metadata": {},
   "outputs": [],
   "source": [
    "# System size and number of systems\n",
    "L = 40\n",
    "sysnum = 1000\n",
    "\n",
    "# random Ising states\n",
    "states = np.random.choice([-1,1], size=(sysnum, L))\n",
    "\n",
    "def ising_energies(states,L):\n",
    "    \"\"\"\n",
    "    This function calculates the energies of the states in the nn Ising Hamiltonian\n",
    "    From the project description \n",
    "    \"\"\"\n",
    "    J=np.zeros((L,L),)\n",
    "    for i in range(L):\n",
    "        J[i,(i+1)%L]-=1.0\n",
    "    \n",
    "    # compute energies\n",
    "    E = np.einsum('...i,ij,...j->...',states,J,states)\n",
    "    return E\n",
    "\n",
    "# calculate Ising energies\n",
    "energies=ising_energies(states,L)\n",
    "#print(energies)\n",
    "    \n",
    "def ising_sum(states) :\n",
    "    Es = [sum(-s[i]*s[(i+1)%L] for i in range(len(s))) for s in states]\n",
    "    return Es\n",
    "\n"
   ]
  },
  {
   "cell_type": "markdown",
   "metadata": {},
   "source": [
    "## Transform the state data"
   ]
  },
  {
   "cell_type": "code",
   "execution_count": 42,
   "metadata": {},
   "outputs": [],
   "source": [
    "####\n",
    "# This function will take a list (a state) s\n",
    "# and return a list consisting of all pairs s[j]s[k] \n",
    "def state_vector(state) : \n",
    "    l = len(state)\n",
    "    return [state[j]*state[k] for k in range(l) for j in range(l)]\n",
    "\n",
    "#s0 = states[0]\n",
    "#print(s0)\n",
    "#print(state_vector(s0))\n",
    "\n",
    "####\n",
    "# This function takes a list of states\n",
    "# transforms each state to a list of interaction products\n",
    "# this stacks those lists vertically to create the state vector\n",
    "def state_matrix(states) : \n",
    "    return np.vstack([state_vector(s) for s in states])\n",
    "\n",
    "#print(state_matrix(states).shape)\n",
    "\n",
    "SM = state_matrix(states)\n",
    "states_train, states_test, E_train, E_test = train_test_split(SM, energies, test_size=0.2)\n"
   ]
  },
  {
   "cell_type": "markdown",
   "metadata": {},
   "source": [
    "## Regression methods on the data"
   ]
  },
  {
   "cell_type": "markdown",
   "metadata": {},
   "source": [
    "### Linear regression"
   ]
  },
  {
   "cell_type": "code",
   "execution_count": 50,
   "metadata": {},
   "outputs": [
    {
     "name": "stdout",
     "output_type": "stream",
     "text": [
      "The MSE of the standard linear regression is 0.000000\n",
      "The R2 score of the standard linear regression is 1.000000\n",
      "[-0.49316678 -0.49898335 -0.5009323  -0.49972336 -0.49949691 -0.49829704\n",
      " -0.50064373 -0.50198945 -0.4997051  -0.49893107 -0.49938215 -0.50034215\n",
      " -0.50004282 -0.49906014 -0.49950127 -0.49967042 -0.49938097 -0.49969301\n",
      " -0.50017254 -0.5000061  -0.5        -0.5        -0.5        -0.5\n",
      " -0.5        -0.5        -0.5        -0.5        -0.5        -0.5\n",
      " -0.5        -0.5        -0.5        -0.5        -0.5        -0.5\n",
      " -0.5        -0.5        -0.4995876 ]\n",
      "[-0.50683322 -0.50101665 -0.4990677  -0.50027664 -0.50050309 -0.50170296\n",
      " -0.49935627 -0.49801055 -0.5002949  -0.50106893 -0.50061785 -0.49965785\n",
      " -0.49995718 -0.50093986 -0.50049873 -0.50032958 -0.50061903 -0.50030699\n",
      " -0.49982746 -0.4999939  -0.5        -0.5        -0.5        -0.5\n",
      " -0.5        -0.5        -0.5        -0.5        -0.5        -0.5\n",
      " -0.5        -0.5        -0.5        -0.5        -0.5        -0.5\n",
      " -0.5        -0.5        -0.5004124 ]\n",
      "[-8.98865309e-03  1.55660864e-03  9.62082907e-04 -3.13893617e-04\n",
      " -1.39013669e-03 -1.74558550e-03 -7.57462303e-05  3.13733001e-04\n",
      "  1.83253953e-03 -5.35438307e-04  1.44346962e-03  1.61990798e-03\n",
      "  5.18176788e-04 -1.69654613e-03  1.79326993e-04 -5.90545728e-04\n",
      "  3.66493239e-04  1.31017754e-04 -3.06917951e-04 -1.27475459e-05\n",
      " -1.34874750e-15 -4.15292800e-15  1.85962357e-15  6.38378239e-16\n",
      " -1.16573418e-15 -2.36963227e-15  2.68188249e-15 -2.61943245e-16\n",
      " -2.39391840e-15 -2.48759346e-15 -4.00721123e-15  8.32667268e-16\n",
      "  2.49626708e-15 -1.42247325e-15 -2.85882429e-15 -3.34454686e-15\n",
      " -1.29410371e-15  1.31208070e-03]\n"
     ]
    }
   ],
   "source": [
    "linreg = LinearRegression()\n",
    "linreg.fit(states_train, E_train)\n",
    "print(\"The MSE of the standard linear regression is %f\" % mean_squared_error(E_test, linreg.predict(states_test)))\n",
    "print(\"The R2 score of the standard linear regression is %f\" % r2_score(E_test, linreg.predict(states_test)))\n",
    "\n",
    "print(linreg.coef_.reshape(L,L).diagonal(offset=1))\n",
    "print(linreg.coef_.reshape(L,L).diagonal(offset=-1))\n",
    "print(linreg.coef_.reshape(L,L).diagonal(offset=-2))"
   ]
  },
  {
   "cell_type": "markdown",
   "metadata": {},
   "source": [
    "### Ridge"
   ]
  },
  {
   "cell_type": "code",
   "execution_count": 57,
   "metadata": {},
   "outputs": [
    {
     "name": "stdout",
     "output_type": "stream",
     "text": [
      "The MSE of the standard linear regression is 0.000001\n",
      "The R2 score of the standard linear regression is 1.000000\n",
      "[-0.982538   -0.98742266 -0.95436977 -0.98311773 -0.99302034 -0.99700719\n",
      " -0.99847242 -0.99877682 -0.98614562 -0.99905676 -0.97719023 -0.98937871\n",
      " -0.99904098 -0.99847569 -0.99930966 -0.98347428 -0.96806086 -0.99884575\n",
      " -0.98955511 -0.99907658 -0.98655219 -0.99844252 -0.99910127 -0.99744164\n",
      " -0.99921567 -0.99115976 -0.99476457 -0.98900544 -0.99845706 -0.99865392\n",
      " -0.99953104 -0.99889798 -0.99894247 -0.9973733  -0.99900301 -0.98382496\n",
      " -0.99880195 -0.9984286  -0.99759528]\n",
      "[-1.65228416e-02 -1.17486432e-02 -4.44202738e-02 -1.58835368e-02\n",
      " -6.05851011e-03 -1.71509860e-03 -4.12279614e-04 -0.00000000e+00\n",
      " -1.30594115e-02 -0.00000000e+00 -2.18552389e-02 -8.98593021e-03\n",
      " -2.04410642e-14 -3.07031634e-04 -0.00000000e+00 -1.56675601e-02\n",
      " -3.08981535e-02 -1.95657660e-06 -9.58103521e-03 -2.08396582e-14\n",
      " -1.23306369e-02 -7.49998709e-04 -2.84049395e-04 -1.70718670e-03\n",
      " -0.00000000e+00 -8.06532917e-03 -4.01105547e-03 -1.00075682e-02\n",
      " -2.09733689e-04 -1.89443179e-04 -9.36614416e-15 -0.00000000e+00\n",
      " -3.13433590e-15 -1.62454981e-03 -0.00000000e+00 -1.47187592e-02\n",
      " -8.35772758e-15 -5.67799994e-15 -1.55878460e-03]\n",
      "[-0.99998048 -0.99995358 -0.99997586 -0.99997814 -1.00002103 -0.99999252\n",
      " -0.99993317 -0.9999703  -1.00005388 -1.00002697 -0.99998306 -0.99994974\n",
      " -0.99992241 -0.99998994 -1.00005311 -0.99994711 -1.00001445 -1.00000187\n",
      " -0.99999763 -1.00000569 -1.00000765 -1.0000186  -1.00000889 -0.99998154\n",
      " -1.00000552 -0.99997357 -0.9999598  -0.99999874 -0.99990977 -1.00001689\n",
      " -0.99995683 -1.00001374 -0.99992837 -0.99997126 -0.99995098 -0.99996493\n",
      " -0.99994184 -0.99997723 -0.99993283]\n",
      "[-5.16139106e-06 -3.92141480e-06 -2.38939797e-05 -3.54938738e-05\n",
      " -1.35108705e-05 -1.88170510e-07 -1.15233860e-05 -1.62584744e-05\n",
      "  1.85449506e-05  1.23862836e-05 -2.74526320e-05 -3.05767074e-07\n",
      "  4.41113400e-06  1.68653952e-05 -3.02165935e-05  7.06137665e-06\n",
      " -4.76164612e-06  1.74511063e-05  1.00703268e-06 -5.26087172e-06\n",
      "  6.34555765e-06  8.57545649e-06 -1.57008619e-05 -9.74585708e-06\n",
      " -1.29136780e-05  1.61540136e-05 -2.00444059e-05  2.09528645e-06\n",
      "  2.45895175e-05 -1.36689498e-05  2.57947904e-05 -2.00253812e-05\n",
      " -1.80239108e-05  1.38808195e-05  1.34649695e-05  9.48570551e-06\n",
      " -1.48511567e-05  1.48288917e-05]\n"
     ]
    }
   ],
   "source": [
    "ridge = Ridge(alpha = 0.001)\n",
    "ridge.fit(states_train, E_train)\n",
    "print(\"The MSE of the standard linear regression is %f\" % mean_squared_error(E_test, ridge.predict(states_test)))\n",
    "print(\"The R2 score of the standard linear regression is %f\" % r2_score(E_test, ridge.predict(states_test)))\n",
    "\n",
    "print(lasso.coef_.reshape(L,L).diagonal(offset=1))\n",
    "print(lasso.coef_.reshape(L,L).diagonal(offset=-1))\n",
    "print(ridge.coef_.reshape(L,L).diagonal(offset=-1) + (ridge.coef_.reshape(L,L).diagonal(offset=1)))\n",
    "print(ridge.coef_.reshape(L,L).diagonal(offset=-2))"
   ]
  },
  {
   "cell_type": "markdown",
   "metadata": {},
   "source": [
    "### Lasso"
   ]
  },
  {
   "cell_type": "code",
   "execution_count": 55,
   "metadata": {},
   "outputs": [
    {
     "name": "stdout",
     "output_type": "stream",
     "text": [
      "The MSE of the standard linear regression is 0.000044\n",
      "The R2 score of the standard linear regression is 0.999999\n",
      "[-0.99906085 -0.9991713  -0.99879004 -0.99900126 -0.99907885 -0.99872229\n",
      " -0.9988847  -0.99877682 -0.99920504 -0.99905676 -0.99904547 -0.99836464\n",
      " -0.99904098 -0.99878272 -0.99930966 -0.99914184 -0.99895902 -0.9988477\n",
      " -0.99913615 -0.99907658 -0.99888282 -0.99919252 -0.99938532 -0.99914883\n",
      " -0.99921567 -0.99922509 -0.99877562 -0.99901301 -0.9986668  -0.99884337\n",
      " -0.99953104 -0.99889798 -0.99894247 -0.99899785 -0.99900301 -0.99854372\n",
      " -0.99880195 -0.9984286  -0.99915407]\n",
      "[ 0.  0. -0. -0.  0.  0.  0. -0.  0.  0. -0.  0. -0.  0. -0. -0.  0. -0.\n",
      "  0. -0.  0. -0. -0. -0.  0.  0. -0.  0. -0. -0. -0. -0.  0.  0. -0. -0.\n",
      " -0. -0.]\n"
     ]
    }
   ],
   "source": [
    "lasso = Lasso(alpha = 0.001)\n",
    "lasso.fit(states_train, E_train)\n",
    "print(\"The MSE of the standard linear regression is %f\" % mean_squared_error(E_test, lasso.predict(states_test)))\n",
    "print(\"The R2 score of the standard linear regression is %f\" % r2_score(E_test, lasso.predict(states_test)))\n",
    "\n",
    "#print(lasso.coef_.reshape(L,L).diagonal(offset=1))\n",
    "#print(lasso.coef_.reshape(L,L).diagonal(offset=-1))\n",
    "print(lasso.coef_.reshape(L,L).diagonal(offset=-1) + (lasso.coef_.reshape(L,L).diagonal(offset=1)))\n",
    "print(lasso.coef_.reshape(L,L).diagonal(offset=-2))"
   ]
  },
  {
   "cell_type": "code",
   "execution_count": null,
   "metadata": {},
   "outputs": [],
   "source": []
  }
 ],
 "metadata": {
  "kernelspec": {
   "display_name": "Python 3",
   "language": "python",
   "name": "python3"
  },
  "language_info": {
   "codemirror_mode": {
    "name": "ipython",
    "version": 3
   },
   "file_extension": ".py",
   "mimetype": "text/x-python",
   "name": "python",
   "nbconvert_exporter": "python",
   "pygments_lexer": "ipython3",
   "version": "3.6.5"
  }
 },
 "nbformat": 4,
 "nbformat_minor": 2
}
